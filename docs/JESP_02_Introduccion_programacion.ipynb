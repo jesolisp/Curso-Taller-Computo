{
 "cells": [
  {
   "cell_type": "markdown",
   "metadata": {},
   "source": [
    "# Introducción a la programación.\n",
    "## Estructura y elementos del lenguaje.\n",
    "## Tipos de datos.\n",
    "## Funciones.\n",
    "## Módulos, Paquetes y namespaces.\n",
    "## Manejo de Ficheros.\n",
    "## Expresiones regulares."
   ]
  }
 ],
 "metadata": {
  "language_info": {
   "name": "python"
  }
 },
 "nbformat": 4,
 "nbformat_minor": 2
}
