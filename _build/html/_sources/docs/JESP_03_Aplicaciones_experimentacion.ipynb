{
 "cells": [
  {
   "cell_type": "markdown",
   "metadata": {},
   "source": [
    "# Aplicaciones y experimentación de la programación.\n",
    "## Vectores y matrices: arreglos en 1, 2 y 3 dimensiones.\n",
    "## Calculo simbólico.\n",
    "## Traficación de funciones.\n",
    "## Representación geométrica de transformaciones en 2 y 3 dimensiones.\n",
    "## Métodos básicos del algebra computacional.\n",
    "## Números aleatorios y aplicaciones.\n",
    "## Visualización en 2 y 3 dimensiones."
   ]
  }
 ],
 "metadata": {
  "language_info": {
   "name": "python"
  }
 },
 "nbformat": 4,
 "nbformat_minor": 2
}
